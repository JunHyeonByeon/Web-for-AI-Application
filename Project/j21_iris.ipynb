{
 "cells": [
  {
   "cell_type": "markdown",
   "metadata": {},
   "source": [
    "# Iris 분류"
   ]
  },
  {
   "cell_type": "markdown",
   "metadata": {},
   "source": [
    "### Logistic Regression"
   ]
  },
  {
   "cell_type": "code",
   "execution_count": 1,
   "metadata": {},
   "outputs": [],
   "source": [
    "import numpy as np\n",
    "import pandas as pd\n",
    "import warnings\n",
    "warnings.filterwarnings('ignore')"
   ]
  },
  {
   "cell_type": "code",
   "execution_count": 2,
   "metadata": {},
   "outputs": [],
   "source": [
    "from sklearn.datasets import load_iris\n",
    "iris = load_iris()"
   ]
  },
  {
   "cell_type": "code",
   "execution_count": 3,
   "metadata": {},
   "outputs": [
    {
     "data": {
      "text/html": [
       "<div>\n",
       "<style scoped>\n",
       "    .dataframe tbody tr th:only-of-type {\n",
       "        vertical-align: middle;\n",
       "    }\n",
       "\n",
       "    .dataframe tbody tr th {\n",
       "        vertical-align: top;\n",
       "    }\n",
       "\n",
       "    .dataframe thead th {\n",
       "        text-align: right;\n",
       "    }\n",
       "</style>\n",
       "<table border=\"1\" class=\"dataframe\">\n",
       "  <thead>\n",
       "    <tr style=\"text-align: right;\">\n",
       "      <th></th>\n",
       "      <th>sepal length (cm)</th>\n",
       "      <th>sepal width (cm)</th>\n",
       "      <th>petal length (cm)</th>\n",
       "      <th>petal width (cm)</th>\n",
       "    </tr>\n",
       "  </thead>\n",
       "  <tbody>\n",
       "    <tr>\n",
       "      <th>0</th>\n",
       "      <td>5.1</td>\n",
       "      <td>3.5</td>\n",
       "      <td>1.4</td>\n",
       "      <td>0.2</td>\n",
       "    </tr>\n",
       "    <tr>\n",
       "      <th>1</th>\n",
       "      <td>4.9</td>\n",
       "      <td>3.0</td>\n",
       "      <td>1.4</td>\n",
       "      <td>0.2</td>\n",
       "    </tr>\n",
       "    <tr>\n",
       "      <th>2</th>\n",
       "      <td>4.7</td>\n",
       "      <td>3.2</td>\n",
       "      <td>1.3</td>\n",
       "      <td>0.2</td>\n",
       "    </tr>\n",
       "    <tr>\n",
       "      <th>3</th>\n",
       "      <td>4.6</td>\n",
       "      <td>3.1</td>\n",
       "      <td>1.5</td>\n",
       "      <td>0.2</td>\n",
       "    </tr>\n",
       "    <tr>\n",
       "      <th>4</th>\n",
       "      <td>5.0</td>\n",
       "      <td>3.6</td>\n",
       "      <td>1.4</td>\n",
       "      <td>0.2</td>\n",
       "    </tr>\n",
       "  </tbody>\n",
       "</table>\n",
       "</div>"
      ],
      "text/plain": [
       "   sepal length (cm)  sepal width (cm)  petal length (cm)  petal width (cm)\n",
       "0                5.1               3.5                1.4               0.2\n",
       "1                4.9               3.0                1.4               0.2\n",
       "2                4.7               3.2                1.3               0.2\n",
       "3                4.6               3.1                1.5               0.2\n",
       "4                5.0               3.6                1.4               0.2"
      ]
     },
     "execution_count": 3,
     "metadata": {},
     "output_type": "execute_result"
    }
   ],
   "source": [
    "# data, target, target_names, feature_names, DESCR\n",
    "data = iris.data\n",
    "label = iris.target\n",
    "columns = iris.feature_names\n",
    "df = pd.DataFrame(data, columns=columns)\n",
    "df.head()"
   ]
  },
  {
   "cell_type": "code",
   "execution_count": 4,
   "metadata": {},
   "outputs": [],
   "source": [
    "from sklearn.model_selection import train_test_split\n",
    "x_train, x_test, y_train, y_test = \\\n",
    "    train_test_split(data, label, test_size=0.2, \n",
    "                     shuffle=True, stratify=label, random_state=2019)"
   ]
  },
  {
   "cell_type": "markdown",
   "metadata": {},
   "source": [
    "* 모델 객체 생성"
   ]
  },
  {
   "cell_type": "code",
   "execution_count": 5,
   "metadata": {},
   "outputs": [],
   "source": [
    "from sklearn.linear_model import LogisticRegression\n",
    "lr = LogisticRegression()"
   ]
  },
  {
   "cell_type": "markdown",
   "metadata": {},
   "source": [
    "* 모델 학습"
   ]
  },
  {
   "cell_type": "code",
   "execution_count": 6,
   "metadata": {},
   "outputs": [
    {
     "data": {
      "text/plain": [
       "LogisticRegression()"
      ]
     },
     "execution_count": 6,
     "metadata": {},
     "output_type": "execute_result"
    }
   ],
   "source": [
    "lr.fit(x_train, y_train)"
   ]
  },
  {
   "cell_type": "markdown",
   "metadata": {},
   "source": [
    "* 학습한 결과를 저장"
   ]
  },
  {
   "cell_type": "code",
   "execution_count": 7,
   "metadata": {},
   "outputs": [
    {
     "data": {
      "text/plain": [
       "['model/iris_lr.pkl']"
      ]
     },
     "execution_count": 7,
     "metadata": {},
     "output_type": "execute_result"
    }
   ],
   "source": [
    "import joblib\n",
    "joblib.dump(lr, 'model/iris_lr.pkl')"
   ]
  },
  {
   "cell_type": "markdown",
   "metadata": {},
   "source": [
    "### Support Vector Machine"
   ]
  },
  {
   "cell_type": "code",
   "execution_count": 13,
   "metadata": {},
   "outputs": [],
   "source": [
    "from sklearn.svm import SVC"
   ]
  },
  {
   "cell_type": "code",
   "execution_count": 14,
   "metadata": {},
   "outputs": [],
   "source": [
    "# 모델 객체 생성\n",
    "svc = SVC()"
   ]
  },
  {
   "cell_type": "code",
   "execution_count": 15,
   "metadata": {},
   "outputs": [
    {
     "data": {
      "text/plain": [
       "SVC()"
      ]
     },
     "execution_count": 15,
     "metadata": {},
     "output_type": "execute_result"
    }
   ],
   "source": [
    "# 학습\n",
    "svc.fit(x_train, y_train)"
   ]
  },
  {
   "cell_type": "code",
   "execution_count": 21,
   "metadata": {},
   "outputs": [
    {
     "data": {
      "text/plain": [
       "['model/iris_svm.pkl']"
      ]
     },
     "execution_count": 21,
     "metadata": {},
     "output_type": "execute_result"
    }
   ],
   "source": [
    "import joblib\n",
    "joblib.dump(lr, 'model/iris_svm.pkl')"
   ]
  },
  {
   "cell_type": "markdown",
   "metadata": {},
   "source": [
    "### Decision Tree"
   ]
  },
  {
   "cell_type": "code",
   "execution_count": 17,
   "metadata": {},
   "outputs": [],
   "source": [
    "from sklearn.tree import DecisionTreeClassifier"
   ]
  },
  {
   "cell_type": "code",
   "execution_count": 18,
   "metadata": {},
   "outputs": [],
   "source": [
    "dtc = DecisionTreeClassifier()"
   ]
  },
  {
   "cell_type": "code",
   "execution_count": 19,
   "metadata": {},
   "outputs": [
    {
     "data": {
      "text/plain": [
       "DecisionTreeClassifier()"
      ]
     },
     "execution_count": 19,
     "metadata": {},
     "output_type": "execute_result"
    }
   ],
   "source": [
    "dtc.fit(x_train, y_train)"
   ]
  },
  {
   "cell_type": "code",
   "execution_count": 22,
   "metadata": {},
   "outputs": [
    {
     "data": {
      "text/plain": [
       "['model/iris_dt.pkl']"
      ]
     },
     "execution_count": 22,
     "metadata": {},
     "output_type": "execute_result"
    }
   ],
   "source": [
    "import joblib\n",
    "joblib.dump(lr, 'model/iris_dt.pkl')"
   ]
  },
  {
   "cell_type": "markdown",
   "metadata": {},
   "source": [
    "### 저장된 모델로 정확도 산출"
   ]
  },
  {
   "cell_type": "code",
   "execution_count": 25,
   "metadata": {},
   "outputs": [],
   "source": [
    "model_lr = joblib.load('model/iris_lr.pkl')\n",
    "model_svm = joblib.load('model/iris_svm.pkl')\n",
    "model_dt = joblib.load('model/iris_dt.pkl')"
   ]
  },
  {
   "cell_type": "code",
   "execution_count": 27,
   "metadata": {},
   "outputs": [],
   "source": [
    "y_pred_lr = model_lr.predict(x_test)\n",
    "y_pred_svm = model_svm.predict(x_test)\n",
    "y_pred_dt = model_dt.predict(x_test)"
   ]
  },
  {
   "cell_type": "code",
   "execution_count": 29,
   "metadata": {},
   "outputs": [
    {
     "name": "stdout",
     "output_type": "stream",
     "text": [
      "0.9666666666666667 0.9666666666666667 0.9666666666666667\n"
     ]
    }
   ],
   "source": [
    "from sklearn.metrics import accuracy_score\n",
    "acc_lr = accuracy_score(y_test, y_pred_lr)\n",
    "acc_svm = accuracy_score(y_test, y_pred_svm)\n",
    "acc_dt = accuracy_score(y_test, y_pred_dt)\n",
    "print(acc_lr, acc_svm, acc_dt)"
   ]
  },
  {
   "cell_type": "markdown",
   "metadata": {},
   "source": [
    "### 한개의 테스트 값 예측"
   ]
  },
  {
   "cell_type": "code",
   "execution_count": 33,
   "metadata": {},
   "outputs": [
    {
     "data": {
      "text/html": [
       "<div>\n",
       "<style scoped>\n",
       "    .dataframe tbody tr th:only-of-type {\n",
       "        vertical-align: middle;\n",
       "    }\n",
       "\n",
       "    .dataframe tbody tr th {\n",
       "        vertical-align: top;\n",
       "    }\n",
       "\n",
       "    .dataframe thead th {\n",
       "        text-align: right;\n",
       "    }\n",
       "</style>\n",
       "<table border=\"1\" class=\"dataframe\">\n",
       "  <thead>\n",
       "    <tr style=\"text-align: right;\">\n",
       "      <th></th>\n",
       "      <th>sepal length (cm)</th>\n",
       "      <th>sepal width (cm)</th>\n",
       "      <th>petal length (cm)</th>\n",
       "      <th>petal width (cm)</th>\n",
       "    </tr>\n",
       "  </thead>\n",
       "  <tbody>\n",
       "    <tr>\n",
       "      <th>145</th>\n",
       "      <td>6.7</td>\n",
       "      <td>3.0</td>\n",
       "      <td>5.2</td>\n",
       "      <td>2.3</td>\n",
       "    </tr>\n",
       "    <tr>\n",
       "      <th>146</th>\n",
       "      <td>6.3</td>\n",
       "      <td>2.5</td>\n",
       "      <td>5.0</td>\n",
       "      <td>1.9</td>\n",
       "    </tr>\n",
       "    <tr>\n",
       "      <th>147</th>\n",
       "      <td>6.5</td>\n",
       "      <td>3.0</td>\n",
       "      <td>5.2</td>\n",
       "      <td>2.0</td>\n",
       "    </tr>\n",
       "    <tr>\n",
       "      <th>148</th>\n",
       "      <td>6.2</td>\n",
       "      <td>3.4</td>\n",
       "      <td>5.4</td>\n",
       "      <td>2.3</td>\n",
       "    </tr>\n",
       "    <tr>\n",
       "      <th>149</th>\n",
       "      <td>5.9</td>\n",
       "      <td>3.0</td>\n",
       "      <td>5.1</td>\n",
       "      <td>1.8</td>\n",
       "    </tr>\n",
       "  </tbody>\n",
       "</table>\n",
       "</div>"
      ],
      "text/plain": [
       "     sepal length (cm)  sepal width (cm)  petal length (cm)  petal width (cm)\n",
       "145                6.7               3.0                5.2               2.3\n",
       "146                6.3               2.5                5.0               1.9\n",
       "147                6.5               3.0                5.2               2.0\n",
       "148                6.2               3.4                5.4               2.3\n",
       "149                5.9               3.0                5.1               1.8"
      ]
     },
     "execution_count": 33,
     "metadata": {},
     "output_type": "execute_result"
    }
   ],
   "source": [
    "df.tail()"
   ]
  },
  {
   "cell_type": "code",
   "execution_count": 35,
   "metadata": {},
   "outputs": [],
   "source": [
    "test_data = np.array([6.7, 3.0, 5.2, 2.3]).reshape(1, 4)"
   ]
  },
  {
   "cell_type": "code",
   "execution_count": 37,
   "metadata": {},
   "outputs": [],
   "source": [
    "index_lr = model_lr.predict(test_data)[0]\n",
    "index_svm = model_svm.predict(test_data)[0]\n",
    "index_dt = model_dt.predict(test_data)[0]"
   ]
  },
  {
   "cell_type": "code",
   "execution_count": 39,
   "metadata": {},
   "outputs": [
    {
     "name": "stdout",
     "output_type": "stream",
     "text": [
      "Virginica Virginica Virginica\n"
     ]
    }
   ],
   "source": [
    "sp_names = ['Setosa', 'Versicolor', 'Virginica']\n",
    "print(sp_names[index_lr], sp_names[index_svm], sp_names[index_dt])"
   ]
  },
  {
   "cell_type": "markdown",
   "metadata": {},
   "source": [
    "# Deep Learning Model"
   ]
  },
  {
   "cell_type": "code",
   "execution_count": 63,
   "metadata": {},
   "outputs": [
    {
     "name": "stdout",
     "output_type": "stream",
     "text": [
      "Model: \"sequential_2\"\n",
      "_________________________________________________________________\n",
      "Layer (type)                 Output Shape              Param #   \n",
      "=================================================================\n",
      "dense_3 (Dense)              (None, 12)                60        \n",
      "_________________________________________________________________\n",
      "dense_4 (Dense)              (None, 8)                 104       \n",
      "_________________________________________________________________\n",
      "dense_5 (Dense)              (None, 3)                 27        \n",
      "=================================================================\n",
      "Total params: 191\n",
      "Trainable params: 191\n",
      "Non-trainable params: 0\n",
      "_________________________________________________________________\n"
     ]
    }
   ],
   "source": [
    "from tensorflow import keras\n",
    "from keras.models import Sequential\n",
    "from keras.layers import Dense\n",
    "\n",
    "model = Sequential([\n",
    "    Dense(12, input_shape=(4,), activation='relu'),\n",
    "    Dense(8, input_shape=(4,), activation='relu'),\n",
    "    Dense(3, activation='softmax')\n",
    "])\n",
    "model.summary()"
   ]
  },
  {
   "cell_type": "code",
   "execution_count": 64,
   "metadata": {},
   "outputs": [],
   "source": [
    "# 모델 컴파일\n",
    "model.compile(loss='categorical_crossentropy', \n",
    "              optimizer='adam',\n",
    "              metrics=['accuracy'])"
   ]
  },
  {
   "cell_type": "code",
   "execution_count": 65,
   "metadata": {},
   "outputs": [],
   "source": [
    "from keras.callbacks import ModelCheckpoint\n",
    "checkpointer = ModelCheckpoint(filepath=\"model/iris_deep.hdf5\", monitor='val_loss', \n",
    "                               verbose=1, save_best_only=True)"
   ]
  },
  {
   "cell_type": "code",
   "execution_count": 66,
   "metadata": {},
   "outputs": [
    {
     "data": {
      "text/plain": [
       "(array([1., 0., 0.], dtype=float32),\n",
       " array([0., 0., 1.], dtype=float32),\n",
       " array([0., 0., 1.], dtype=float32))"
      ]
     },
     "execution_count": 66,
     "metadata": {},
     "output_type": "execute_result"
    }
   ],
   "source": [
    "# One hot encoding\n",
    "Y_encoded = keras.utils.to_categorical(y_train)\n",
    "Y_encoded[0], Y_encoded[50], Y_encoded[100],"
   ]
  },
  {
   "cell_type": "code",
   "execution_count": 67,
   "metadata": {},
   "outputs": [
    {
     "name": "stdout",
     "output_type": "stream",
     "text": [
      "Train on 96 samples, validate on 24 samples\n",
      "Epoch 1/100\n",
      " - 0s - loss: 1.2302 - accuracy: 0.3438 - val_loss: 1.2786 - val_accuracy: 0.2917\n",
      "\n",
      "Epoch 00001: val_loss improved from inf to 1.27863, saving model to model/iris_deep.hdf5\n",
      "Epoch 2/100\n",
      " - 0s - loss: 1.1908 - accuracy: 0.3438 - val_loss: 1.2328 - val_accuracy: 0.2917\n",
      "\n",
      "Epoch 00002: val_loss improved from 1.27863 to 1.23284, saving model to model/iris_deep.hdf5\n",
      "Epoch 3/100\n",
      " - 0s - loss: 1.1581 - accuracy: 0.3438 - val_loss: 1.1908 - val_accuracy: 0.2917\n",
      "\n",
      "Epoch 00003: val_loss improved from 1.23284 to 1.19082, saving model to model/iris_deep.hdf5\n",
      "Epoch 4/100\n",
      " - 0s - loss: 1.1247 - accuracy: 0.3438 - val_loss: 1.1533 - val_accuracy: 0.2917\n",
      "\n",
      "Epoch 00004: val_loss improved from 1.19082 to 1.15327, saving model to model/iris_deep.hdf5\n",
      "Epoch 5/100\n",
      " - 0s - loss: 1.0997 - accuracy: 0.3438 - val_loss: 1.1182 - val_accuracy: 0.3333\n",
      "\n",
      "Epoch 00005: val_loss improved from 1.15327 to 1.11819, saving model to model/iris_deep.hdf5\n",
      "Epoch 6/100\n",
      " - 0s - loss: 1.0743 - accuracy: 0.3646 - val_loss: 1.0854 - val_accuracy: 0.3333\n",
      "\n",
      "Epoch 00006: val_loss improved from 1.11819 to 1.08542, saving model to model/iris_deep.hdf5\n",
      "Epoch 7/100\n",
      " - 0s - loss: 1.0515 - accuracy: 0.4479 - val_loss: 1.0544 - val_accuracy: 0.5000\n",
      "\n",
      "Epoch 00007: val_loss improved from 1.08542 to 1.05438, saving model to model/iris_deep.hdf5\n",
      "Epoch 8/100\n",
      " - 0s - loss: 1.0275 - accuracy: 0.6562 - val_loss: 1.0305 - val_accuracy: 0.6667\n",
      "\n",
      "Epoch 00008: val_loss improved from 1.05438 to 1.03051, saving model to model/iris_deep.hdf5\n",
      "Epoch 9/100\n",
      " - 0s - loss: 1.0105 - accuracy: 0.6667 - val_loss: 1.0197 - val_accuracy: 0.7500\n",
      "\n",
      "Epoch 00009: val_loss improved from 1.03051 to 1.01972, saving model to model/iris_deep.hdf5\n",
      "Epoch 10/100\n",
      " - 0s - loss: 1.0033 - accuracy: 0.7188 - val_loss: 1.0120 - val_accuracy: 0.8750\n",
      "\n",
      "Epoch 00010: val_loss improved from 1.01972 to 1.01200, saving model to model/iris_deep.hdf5\n",
      "Epoch 11/100\n",
      " - 0s - loss: 0.9959 - accuracy: 0.7500 - val_loss: 1.0085 - val_accuracy: 0.8750\n",
      "\n",
      "Epoch 00011: val_loss improved from 1.01200 to 1.00849, saving model to model/iris_deep.hdf5\n",
      "Epoch 12/100\n",
      " - 0s - loss: 0.9910 - accuracy: 0.7708 - val_loss: 1.0057 - val_accuracy: 0.8750\n",
      "\n",
      "Epoch 00012: val_loss improved from 1.00849 to 1.00566, saving model to model/iris_deep.hdf5\n",
      "Epoch 13/100\n",
      " - 0s - loss: 0.9869 - accuracy: 0.8229 - val_loss: 1.0025 - val_accuracy: 0.8750\n",
      "\n",
      "Epoch 00013: val_loss improved from 1.00566 to 1.00252, saving model to model/iris_deep.hdf5\n",
      "Epoch 14/100\n",
      " - 0s - loss: 0.9832 - accuracy: 0.8021 - val_loss: 0.9994 - val_accuracy: 0.7083\n",
      "\n",
      "Epoch 00014: val_loss improved from 1.00252 to 0.99936, saving model to model/iris_deep.hdf5\n",
      "Epoch 15/100\n",
      " - 0s - loss: 0.9791 - accuracy: 0.8021 - val_loss: 0.9968 - val_accuracy: 0.7083\n",
      "\n",
      "Epoch 00015: val_loss improved from 0.99936 to 0.99685, saving model to model/iris_deep.hdf5\n",
      "Epoch 16/100\n",
      " - 0s - loss: 0.9758 - accuracy: 0.7396 - val_loss: 0.9929 - val_accuracy: 0.6667\n",
      "\n",
      "Epoch 00016: val_loss improved from 0.99685 to 0.99287, saving model to model/iris_deep.hdf5\n",
      "Epoch 17/100\n",
      " - 0s - loss: 0.9701 - accuracy: 0.7188 - val_loss: 0.9873 - val_accuracy: 0.7083\n",
      "\n",
      "Epoch 00017: val_loss improved from 0.99287 to 0.98730, saving model to model/iris_deep.hdf5\n",
      "Epoch 18/100\n",
      " - 0s - loss: 0.9644 - accuracy: 0.7708 - val_loss: 0.9818 - val_accuracy: 0.7083\n",
      "\n",
      "Epoch 00018: val_loss improved from 0.98730 to 0.98183, saving model to model/iris_deep.hdf5\n",
      "Epoch 19/100\n",
      " - 0s - loss: 0.9599 - accuracy: 0.7500 - val_loss: 0.9768 - val_accuracy: 0.8333\n",
      "\n",
      "Epoch 00019: val_loss improved from 0.98183 to 0.97675, saving model to model/iris_deep.hdf5\n",
      "Epoch 20/100\n",
      " - 0s - loss: 0.9553 - accuracy: 0.7604 - val_loss: 0.9724 - val_accuracy: 0.8333\n",
      "\n",
      "Epoch 00020: val_loss improved from 0.97675 to 0.97235, saving model to model/iris_deep.hdf5\n",
      "Epoch 21/100\n",
      " - 0s - loss: 0.9502 - accuracy: 0.7396 - val_loss: 0.9679 - val_accuracy: 0.7083\n",
      "\n",
      "Epoch 00021: val_loss improved from 0.97235 to 0.96792, saving model to model/iris_deep.hdf5\n",
      "Epoch 22/100\n",
      " - 0s - loss: 0.9449 - accuracy: 0.6667 - val_loss: 0.9638 - val_accuracy: 0.7083\n",
      "\n",
      "Epoch 00022: val_loss improved from 0.96792 to 0.96383, saving model to model/iris_deep.hdf5\n",
      "Epoch 23/100\n",
      " - 0s - loss: 0.9379 - accuracy: 0.6771 - val_loss: 0.9594 - val_accuracy: 0.6250\n",
      "\n",
      "Epoch 00023: val_loss improved from 0.96383 to 0.95943, saving model to model/iris_deep.hdf5\n",
      "Epoch 24/100\n",
      " - 0s - loss: 0.9325 - accuracy: 0.6875 - val_loss: 0.9550 - val_accuracy: 0.6250\n",
      "\n",
      "Epoch 00024: val_loss improved from 0.95943 to 0.95503, saving model to model/iris_deep.hdf5\n",
      "Epoch 25/100\n",
      " - 0s - loss: 0.9267 - accuracy: 0.6771 - val_loss: 0.9493 - val_accuracy: 0.7083\n",
      "\n",
      "Epoch 00025: val_loss improved from 0.95503 to 0.94934, saving model to model/iris_deep.hdf5\n",
      "Epoch 26/100\n",
      " - 0s - loss: 0.9204 - accuracy: 0.7083 - val_loss: 0.9430 - val_accuracy: 0.7083\n",
      "\n",
      "Epoch 00026: val_loss improved from 0.94934 to 0.94300, saving model to model/iris_deep.hdf5\n",
      "Epoch 27/100\n",
      " - 0s - loss: 0.9139 - accuracy: 0.7500 - val_loss: 0.9370 - val_accuracy: 0.7083\n",
      "\n",
      "Epoch 00027: val_loss improved from 0.94300 to 0.93703, saving model to model/iris_deep.hdf5\n",
      "Epoch 28/100\n",
      " - 0s - loss: 0.9075 - accuracy: 0.7500 - val_loss: 0.9309 - val_accuracy: 0.7917\n",
      "\n",
      "Epoch 00028: val_loss improved from 0.93703 to 0.93090, saving model to model/iris_deep.hdf5\n",
      "Epoch 29/100\n",
      " - 0s - loss: 0.9015 - accuracy: 0.7708 - val_loss: 0.9249 - val_accuracy: 0.7917\n",
      "\n",
      "Epoch 00029: val_loss improved from 0.93090 to 0.92494, saving model to model/iris_deep.hdf5\n",
      "Epoch 30/100\n",
      " - 0s - loss: 0.8946 - accuracy: 0.7292 - val_loss: 0.9194 - val_accuracy: 0.7083\n",
      "\n",
      "Epoch 00030: val_loss improved from 0.92494 to 0.91936, saving model to model/iris_deep.hdf5\n",
      "Epoch 31/100\n",
      " - 0s - loss: 0.8867 - accuracy: 0.7292 - val_loss: 0.9132 - val_accuracy: 0.7083\n",
      "\n",
      "Epoch 00031: val_loss improved from 0.91936 to 0.91315, saving model to model/iris_deep.hdf5\n",
      "Epoch 32/100\n",
      " - 0s - loss: 0.8797 - accuracy: 0.7396 - val_loss: 0.9067 - val_accuracy: 0.7083\n",
      "\n",
      "Epoch 00032: val_loss improved from 0.91315 to 0.90674, saving model to model/iris_deep.hdf5\n",
      "Epoch 33/100\n",
      " - 0s - loss: 0.8728 - accuracy: 0.7188 - val_loss: 0.9003 - val_accuracy: 0.7083\n",
      "\n",
      "Epoch 00033: val_loss improved from 0.90674 to 0.90034, saving model to model/iris_deep.hdf5\n",
      "Epoch 34/100\n",
      " - 0s - loss: 0.8647 - accuracy: 0.7292 - val_loss: 0.8938 - val_accuracy: 0.7083\n",
      "\n",
      "Epoch 00034: val_loss improved from 0.90034 to 0.89376, saving model to model/iris_deep.hdf5\n",
      "Epoch 35/100\n",
      " - 0s - loss: 0.8576 - accuracy: 0.7292 - val_loss: 0.8877 - val_accuracy: 0.7083\n",
      "\n",
      "Epoch 00035: val_loss improved from 0.89376 to 0.88773, saving model to model/iris_deep.hdf5\n",
      "Epoch 36/100\n",
      " - 0s - loss: 0.8513 - accuracy: 0.7396 - val_loss: 0.8813 - val_accuracy: 0.7917\n",
      "\n",
      "Epoch 00036: val_loss improved from 0.88773 to 0.88130, saving model to model/iris_deep.hdf5\n",
      "Epoch 37/100\n",
      " - 0s - loss: 0.8438 - accuracy: 0.7708 - val_loss: 0.8738 - val_accuracy: 0.7917\n",
      "\n",
      "Epoch 00037: val_loss improved from 0.88130 to 0.87384, saving model to model/iris_deep.hdf5\n",
      "Epoch 38/100\n",
      " - 0s - loss: 0.8364 - accuracy: 0.8125 - val_loss: 0.8667 - val_accuracy: 0.7917\n",
      "\n",
      "Epoch 00038: val_loss improved from 0.87384 to 0.86667, saving model to model/iris_deep.hdf5\n",
      "Epoch 39/100\n",
      " - 0s - loss: 0.8286 - accuracy: 0.8646 - val_loss: 0.8600 - val_accuracy: 0.7917\n",
      "\n",
      "Epoch 00039: val_loss improved from 0.86667 to 0.86004, saving model to model/iris_deep.hdf5\n",
      "Epoch 40/100\n",
      " - 0s - loss: 0.8213 - accuracy: 0.8750 - val_loss: 0.8531 - val_accuracy: 0.7917\n",
      "\n",
      "Epoch 00040: val_loss improved from 0.86004 to 0.85306, saving model to model/iris_deep.hdf5\n",
      "Epoch 41/100\n",
      " - 0s - loss: 0.8133 - accuracy: 0.8542 - val_loss: 0.8461 - val_accuracy: 0.7917\n",
      "\n",
      "Epoch 00041: val_loss improved from 0.85306 to 0.84610, saving model to model/iris_deep.hdf5\n",
      "Epoch 42/100\n",
      " - 0s - loss: 0.8057 - accuracy: 0.8542 - val_loss: 0.8394 - val_accuracy: 0.7917\n",
      "\n",
      "Epoch 00042: val_loss improved from 0.84610 to 0.83941, saving model to model/iris_deep.hdf5\n",
      "Epoch 43/100\n",
      " - 0s - loss: 0.7982 - accuracy: 0.8438 - val_loss: 0.8319 - val_accuracy: 0.7917\n",
      "\n",
      "Epoch 00043: val_loss improved from 0.83941 to 0.83190, saving model to model/iris_deep.hdf5\n",
      "Epoch 44/100\n",
      " - 0s - loss: 0.7903 - accuracy: 0.8438 - val_loss: 0.8242 - val_accuracy: 0.7917\n"
     ]
    },
    {
     "name": "stdout",
     "output_type": "stream",
     "text": [
      "\n",
      "Epoch 00044: val_loss improved from 0.83190 to 0.82415, saving model to model/iris_deep.hdf5\n",
      "Epoch 45/100\n",
      " - 0s - loss: 0.7825 - accuracy: 0.8542 - val_loss: 0.8180 - val_accuracy: 0.7917\n",
      "\n",
      "Epoch 00045: val_loss improved from 0.82415 to 0.81798, saving model to model/iris_deep.hdf5\n",
      "Epoch 46/100\n",
      " - 0s - loss: 0.7755 - accuracy: 0.8854 - val_loss: 0.8122 - val_accuracy: 0.7917\n",
      "\n",
      "Epoch 00046: val_loss improved from 0.81798 to 0.81220, saving model to model/iris_deep.hdf5\n",
      "Epoch 47/100\n",
      " - 0s - loss: 0.7689 - accuracy: 0.8750 - val_loss: 0.8071 - val_accuracy: 0.7917\n",
      "\n",
      "Epoch 00047: val_loss improved from 0.81220 to 0.80715, saving model to model/iris_deep.hdf5\n",
      "Epoch 48/100\n",
      " - 0s - loss: 0.7622 - accuracy: 0.8646 - val_loss: 0.8024 - val_accuracy: 0.7917\n",
      "\n",
      "Epoch 00048: val_loss improved from 0.80715 to 0.80240, saving model to model/iris_deep.hdf5\n",
      "Epoch 49/100\n",
      " - 0s - loss: 0.7558 - accuracy: 0.8646 - val_loss: 0.7973 - val_accuracy: 0.7917\n",
      "\n",
      "Epoch 00049: val_loss improved from 0.80240 to 0.79726, saving model to model/iris_deep.hdf5\n",
      "Epoch 50/100\n",
      " - 0s - loss: 0.7511 - accuracy: 0.8646 - val_loss: 0.7927 - val_accuracy: 0.8333\n",
      "\n",
      "Epoch 00050: val_loss improved from 0.79726 to 0.79274, saving model to model/iris_deep.hdf5\n",
      "Epoch 51/100\n",
      " - 0s - loss: 0.7449 - accuracy: 0.8958 - val_loss: 0.7873 - val_accuracy: 0.8750\n",
      "\n",
      "Epoch 00051: val_loss improved from 0.79274 to 0.78730, saving model to model/iris_deep.hdf5\n",
      "Epoch 52/100\n",
      " - 0s - loss: 0.7392 - accuracy: 0.9271 - val_loss: 0.7821 - val_accuracy: 0.9167\n",
      "\n",
      "Epoch 00052: val_loss improved from 0.78730 to 0.78208, saving model to model/iris_deep.hdf5\n",
      "Epoch 53/100\n",
      " - 0s - loss: 0.7339 - accuracy: 0.9479 - val_loss: 0.7776 - val_accuracy: 0.9167\n",
      "\n",
      "Epoch 00053: val_loss improved from 0.78208 to 0.77757, saving model to model/iris_deep.hdf5\n",
      "Epoch 54/100\n",
      " - 0s - loss: 0.7282 - accuracy: 0.9062 - val_loss: 0.7740 - val_accuracy: 0.9167\n",
      "\n",
      "Epoch 00054: val_loss improved from 0.77757 to 0.77402, saving model to model/iris_deep.hdf5\n",
      "Epoch 55/100\n",
      " - 0s - loss: 0.7238 - accuracy: 0.8854 - val_loss: 0.7701 - val_accuracy: 0.8750\n",
      "\n",
      "Epoch 00055: val_loss improved from 0.77402 to 0.77014, saving model to model/iris_deep.hdf5\n",
      "Epoch 56/100\n",
      " - 0s - loss: 0.7189 - accuracy: 0.8854 - val_loss: 0.7652 - val_accuracy: 0.8750\n",
      "\n",
      "Epoch 00056: val_loss improved from 0.77014 to 0.76525, saving model to model/iris_deep.hdf5\n",
      "Epoch 57/100\n",
      " - 0s - loss: 0.7134 - accuracy: 0.9062 - val_loss: 0.7603 - val_accuracy: 0.8750\n",
      "\n",
      "Epoch 00057: val_loss improved from 0.76525 to 0.76033, saving model to model/iris_deep.hdf5\n",
      "Epoch 58/100\n",
      " - 0s - loss: 0.7087 - accuracy: 0.9167 - val_loss: 0.7559 - val_accuracy: 0.9167\n",
      "\n",
      "Epoch 00058: val_loss improved from 0.76033 to 0.75587, saving model to model/iris_deep.hdf5\n",
      "Epoch 59/100\n",
      " - 0s - loss: 0.7041 - accuracy: 0.9479 - val_loss: 0.7515 - val_accuracy: 0.9167\n",
      "\n",
      "Epoch 00059: val_loss improved from 0.75587 to 0.75155, saving model to model/iris_deep.hdf5\n",
      "Epoch 60/100\n",
      " - 0s - loss: 0.7004 - accuracy: 0.9479 - val_loss: 0.7477 - val_accuracy: 0.8750\n",
      "\n",
      "Epoch 00060: val_loss improved from 0.75155 to 0.74773, saving model to model/iris_deep.hdf5\n",
      "Epoch 61/100\n",
      " - 0s - loss: 0.6963 - accuracy: 0.9375 - val_loss: 0.7440 - val_accuracy: 0.8750\n",
      "\n",
      "Epoch 00061: val_loss improved from 0.74773 to 0.74398, saving model to model/iris_deep.hdf5\n",
      "Epoch 62/100\n",
      " - 0s - loss: 0.6920 - accuracy: 0.9479 - val_loss: 0.7400 - val_accuracy: 0.8750\n",
      "\n",
      "Epoch 00062: val_loss improved from 0.74398 to 0.74000, saving model to model/iris_deep.hdf5\n",
      "Epoch 63/100\n",
      " - 0s - loss: 0.6875 - accuracy: 0.9375 - val_loss: 0.7365 - val_accuracy: 0.9167\n",
      "\n",
      "Epoch 00063: val_loss improved from 0.74000 to 0.73648, saving model to model/iris_deep.hdf5\n",
      "Epoch 64/100\n",
      " - 0s - loss: 0.6834 - accuracy: 0.9062 - val_loss: 0.7336 - val_accuracy: 0.9167\n",
      "\n",
      "Epoch 00064: val_loss improved from 0.73648 to 0.73357, saving model to model/iris_deep.hdf5\n",
      "Epoch 65/100\n",
      " - 0s - loss: 0.6797 - accuracy: 0.9062 - val_loss: 0.7306 - val_accuracy: 0.9167\n",
      "\n",
      "Epoch 00065: val_loss improved from 0.73357 to 0.73064, saving model to model/iris_deep.hdf5\n",
      "Epoch 66/100\n",
      " - 0s - loss: 0.6770 - accuracy: 0.8854 - val_loss: 0.7270 - val_accuracy: 0.9167\n",
      "\n",
      "Epoch 00066: val_loss improved from 0.73064 to 0.72703, saving model to model/iris_deep.hdf5\n",
      "Epoch 67/100\n",
      " - 0s - loss: 0.6717 - accuracy: 0.8854 - val_loss: 0.7212 - val_accuracy: 0.9167\n",
      "\n",
      "Epoch 00067: val_loss improved from 0.72703 to 0.72115, saving model to model/iris_deep.hdf5\n",
      "Epoch 68/100\n",
      " - 0s - loss: 0.6685 - accuracy: 0.9583 - val_loss: 0.7184 - val_accuracy: 0.9167\n",
      "\n",
      "Epoch 00068: val_loss improved from 0.72115 to 0.71835, saving model to model/iris_deep.hdf5\n",
      "Epoch 69/100\n",
      " - 0s - loss: 0.6665 - accuracy: 0.9479 - val_loss: 0.7156 - val_accuracy: 0.9167\n",
      "\n",
      "Epoch 00069: val_loss improved from 0.71835 to 0.71561, saving model to model/iris_deep.hdf5\n",
      "Epoch 70/100\n",
      " - 0s - loss: 0.6606 - accuracy: 0.9583 - val_loss: 0.7139 - val_accuracy: 0.9167\n",
      "\n",
      "Epoch 00070: val_loss improved from 0.71561 to 0.71395, saving model to model/iris_deep.hdf5\n",
      "Epoch 71/100\n",
      " - 0s - loss: 0.6583 - accuracy: 0.8854 - val_loss: 0.7133 - val_accuracy: 0.8750\n",
      "\n",
      "Epoch 00071: val_loss improved from 0.71395 to 0.71328, saving model to model/iris_deep.hdf5\n",
      "Epoch 72/100\n",
      " - 0s - loss: 0.6564 - accuracy: 0.8750 - val_loss: 0.7098 - val_accuracy: 0.8750\n",
      "\n",
      "Epoch 00072: val_loss improved from 0.71328 to 0.70978, saving model to model/iris_deep.hdf5\n",
      "Epoch 73/100\n",
      " - 0s - loss: 0.6534 - accuracy: 0.8646 - val_loss: 0.7042 - val_accuracy: 0.9167\n",
      "\n",
      "Epoch 00073: val_loss improved from 0.70978 to 0.70421, saving model to model/iris_deep.hdf5\n",
      "Epoch 74/100\n",
      " - 0s - loss: 0.6492 - accuracy: 0.8958 - val_loss: 0.6981 - val_accuracy: 0.9167\n",
      "\n",
      "Epoch 00074: val_loss improved from 0.70421 to 0.69812, saving model to model/iris_deep.hdf5\n",
      "Epoch 75/100\n",
      " - 0s - loss: 0.6458 - accuracy: 0.9271 - val_loss: 0.6947 - val_accuracy: 0.9167\n",
      "\n",
      "Epoch 00075: val_loss improved from 0.69812 to 0.69471, saving model to model/iris_deep.hdf5\n",
      "Epoch 76/100\n",
      " - 0s - loss: 0.6424 - accuracy: 0.9375 - val_loss: 0.6924 - val_accuracy: 0.9167\n",
      "\n",
      "Epoch 00076: val_loss improved from 0.69471 to 0.69241, saving model to model/iris_deep.hdf5\n",
      "Epoch 77/100\n",
      " - 0s - loss: 0.6378 - accuracy: 0.9167 - val_loss: 0.6919 - val_accuracy: 0.9167\n",
      "\n",
      "Epoch 00077: val_loss improved from 0.69241 to 0.69189, saving model to model/iris_deep.hdf5\n",
      "Epoch 78/100\n",
      " - 0s - loss: 0.6347 - accuracy: 0.9167 - val_loss: 0.6911 - val_accuracy: 0.9167\n",
      "\n",
      "Epoch 00078: val_loss improved from 0.69189 to 0.69107, saving model to model/iris_deep.hdf5\n",
      "Epoch 79/100\n",
      " - 0s - loss: 0.6327 - accuracy: 0.8958 - val_loss: 0.6894 - val_accuracy: 0.8750\n",
      "\n",
      "Epoch 00079: val_loss improved from 0.69107 to 0.68937, saving model to model/iris_deep.hdf5\n",
      "Epoch 80/100\n",
      " - 0s - loss: 0.6307 - accuracy: 0.8750 - val_loss: 0.6848 - val_accuracy: 0.9167\n",
      "\n",
      "Epoch 00080: val_loss improved from 0.68937 to 0.68483, saving model to model/iris_deep.hdf5\n",
      "Epoch 81/100\n",
      " - 0s - loss: 0.6260 - accuracy: 0.9167 - val_loss: 0.6794 - val_accuracy: 0.9167\n",
      "\n",
      "Epoch 00081: val_loss improved from 0.68483 to 0.67939, saving model to model/iris_deep.hdf5\n",
      "Epoch 82/100\n",
      " - 0s - loss: 0.6228 - accuracy: 0.9167 - val_loss: 0.6757 - val_accuracy: 0.9167\n",
      "\n",
      "Epoch 00082: val_loss improved from 0.67939 to 0.67573, saving model to model/iris_deep.hdf5\n",
      "Epoch 83/100\n",
      " - 0s - loss: 0.6201 - accuracy: 0.9167 - val_loss: 0.6741 - val_accuracy: 0.9167\n",
      "\n",
      "Epoch 00083: val_loss improved from 0.67573 to 0.67408, saving model to model/iris_deep.hdf5\n",
      "Epoch 84/100\n",
      " - 0s - loss: 0.6171 - accuracy: 0.9167 - val_loss: 0.6724 - val_accuracy: 0.9167\n",
      "\n",
      "Epoch 00084: val_loss improved from 0.67408 to 0.67240, saving model to model/iris_deep.hdf5\n",
      "Epoch 85/100\n",
      " - 0s - loss: 0.6141 - accuracy: 0.9062 - val_loss: 0.6710 - val_accuracy: 0.9167\n",
      "\n",
      "Epoch 00085: val_loss improved from 0.67240 to 0.67105, saving model to model/iris_deep.hdf5\n",
      "Epoch 86/100\n",
      " - 0s - loss: 0.6119 - accuracy: 0.9167 - val_loss: 0.6691 - val_accuracy: 0.9167\n",
      "\n",
      "Epoch 00086: val_loss improved from 0.67105 to 0.66905, saving model to model/iris_deep.hdf5\n",
      "Epoch 87/100\n",
      " - 0s - loss: 0.6084 - accuracy: 0.9167 - val_loss: 0.6653 - val_accuracy: 0.9167\n",
      "\n",
      "Epoch 00087: val_loss improved from 0.66905 to 0.66529, saving model to model/iris_deep.hdf5\n",
      "Epoch 88/100\n",
      " - 0s - loss: 0.6054 - accuracy: 0.9167 - val_loss: 0.6606 - val_accuracy: 0.9167\n"
     ]
    },
    {
     "name": "stdout",
     "output_type": "stream",
     "text": [
      "\n",
      "Epoch 00088: val_loss improved from 0.66529 to 0.66063, saving model to model/iris_deep.hdf5\n",
      "Epoch 89/100\n",
      " - 0s - loss: 0.6027 - accuracy: 0.9167 - val_loss: 0.6580 - val_accuracy: 0.9167\n",
      "\n",
      "Epoch 00089: val_loss improved from 0.66063 to 0.65796, saving model to model/iris_deep.hdf5\n",
      "Epoch 90/100\n",
      " - 0s - loss: 0.5998 - accuracy: 0.9271 - val_loss: 0.6567 - val_accuracy: 0.9167\n",
      "\n",
      "Epoch 00090: val_loss improved from 0.65796 to 0.65671, saving model to model/iris_deep.hdf5\n",
      "Epoch 91/100\n",
      " - 0s - loss: 0.5969 - accuracy: 0.9271 - val_loss: 0.6550 - val_accuracy: 0.9167\n",
      "\n",
      "Epoch 00091: val_loss improved from 0.65671 to 0.65500, saving model to model/iris_deep.hdf5\n",
      "Epoch 92/100\n",
      " - 0s - loss: 0.5945 - accuracy: 0.9062 - val_loss: 0.6514 - val_accuracy: 0.9167\n",
      "\n",
      "Epoch 00092: val_loss improved from 0.65500 to 0.65145, saving model to model/iris_deep.hdf5\n",
      "Epoch 93/100\n",
      " - 0s - loss: 0.5922 - accuracy: 0.9271 - val_loss: 0.6471 - val_accuracy: 0.9167\n",
      "\n",
      "Epoch 00093: val_loss improved from 0.65145 to 0.64709, saving model to model/iris_deep.hdf5\n",
      "Epoch 94/100\n",
      " - 0s - loss: 0.5892 - accuracy: 0.9271 - val_loss: 0.6450 - val_accuracy: 0.9167\n",
      "\n",
      "Epoch 00094: val_loss improved from 0.64709 to 0.64496, saving model to model/iris_deep.hdf5\n",
      "Epoch 95/100\n",
      " - 0s - loss: 0.5869 - accuracy: 0.9271 - val_loss: 0.6433 - val_accuracy: 0.9167\n",
      "\n",
      "Epoch 00095: val_loss improved from 0.64496 to 0.64329, saving model to model/iris_deep.hdf5\n",
      "Epoch 96/100\n",
      " - 0s - loss: 0.5838 - accuracy: 0.9271 - val_loss: 0.6403 - val_accuracy: 0.9167\n",
      "\n",
      "Epoch 00096: val_loss improved from 0.64329 to 0.64032, saving model to model/iris_deep.hdf5\n",
      "Epoch 97/100\n",
      " - 0s - loss: 0.5811 - accuracy: 0.9271 - val_loss: 0.6367 - val_accuracy: 0.9167\n",
      "\n",
      "Epoch 00097: val_loss improved from 0.64032 to 0.63675, saving model to model/iris_deep.hdf5\n",
      "Epoch 98/100\n",
      " - 0s - loss: 0.5800 - accuracy: 0.9479 - val_loss: 0.6341 - val_accuracy: 0.9167\n",
      "\n",
      "Epoch 00098: val_loss improved from 0.63675 to 0.63412, saving model to model/iris_deep.hdf5\n",
      "Epoch 99/100\n",
      " - 0s - loss: 0.5779 - accuracy: 0.9375 - val_loss: 0.6325 - val_accuracy: 0.9167\n",
      "\n",
      "Epoch 00099: val_loss improved from 0.63412 to 0.63254, saving model to model/iris_deep.hdf5\n",
      "Epoch 100/100\n",
      " - 0s - loss: 0.5745 - accuracy: 0.9271 - val_loss: 0.6307 - val_accuracy: 0.9167\n",
      "\n",
      "Epoch 00100: val_loss improved from 0.63254 to 0.63072, saving model to model/iris_deep.hdf5\n"
     ]
    },
    {
     "data": {
      "text/plain": [
       "<keras.callbacks.callbacks.History at 0x1e30a862788>"
      ]
     },
     "execution_count": 67,
     "metadata": {},
     "output_type": "execute_result"
    }
   ],
   "source": [
    "model.fit(x_train, Y_encoded, epochs=100, batch_size=30, verbose=2,\n",
    "          validation_split=0.2, callbacks=[checkpointer])"
   ]
  },
  {
   "cell_type": "code",
   "execution_count": 71,
   "metadata": {},
   "outputs": [],
   "source": [
    "from keras.models import load_model\n",
    "model_deep = load_model(\"model/iris_deep.hdf5\")"
   ]
  },
  {
   "cell_type": "code",
   "execution_count": 73,
   "metadata": {},
   "outputs": [
    {
     "name": "stdout",
     "output_type": "stream",
     "text": [
      "\r",
      "30/30 [==============================] - 0s 465us/step\n"
     ]
    },
    {
     "data": {
      "text/plain": [
       "0.9666666388511658"
      ]
     },
     "execution_count": 73,
     "metadata": {},
     "output_type": "execute_result"
    }
   ],
   "source": [
    "# 결과 출력 \n",
    "model_deep.evaluate(x_test, keras.utils.to_categorical(y_test))[1]"
   ]
  },
  {
   "cell_type": "code",
   "execution_count": 76,
   "metadata": {},
   "outputs": [
    {
     "data": {
      "text/plain": [
       "2"
      ]
     },
     "execution_count": 76,
     "metadata": {},
     "output_type": "execute_result"
    }
   ],
   "source": [
    "model_deep.predict_classes(test_data)[0]"
   ]
  },
  {
   "cell_type": "code",
   "execution_count": 77,
   "metadata": {},
   "outputs": [
    {
     "data": {
      "text/plain": [
       "array([[0.23185335, 0.35101488, 0.41713175]], dtype=float32)"
      ]
     },
     "execution_count": 77,
     "metadata": {},
     "output_type": "execute_result"
    }
   ],
   "source": [
    "model_deep.predict(test_data)"
   ]
  },
  {
   "cell_type": "code",
   "execution_count": 75,
   "metadata": {},
   "outputs": [
    {
     "data": {
      "text/plain": [
       "2"
      ]
     },
     "execution_count": 75,
     "metadata": {},
     "output_type": "execute_result"
    }
   ],
   "source": [
    "np.argmax(model_deep.predict(test_data)[0])"
   ]
  },
  {
   "cell_type": "code",
   "execution_count": null,
   "metadata": {},
   "outputs": [],
   "source": []
  }
 ],
 "metadata": {
  "kernelspec": {
   "display_name": "Python 3",
   "language": "python",
   "name": "python3"
  },
  "language_info": {
   "codemirror_mode": {
    "name": "ipython",
    "version": 3
   },
   "file_extension": ".py",
   "mimetype": "text/x-python",
   "name": "python",
   "nbconvert_exporter": "python",
   "pygments_lexer": "ipython3",
   "version": "3.7.7"
  }
 },
 "nbformat": 4,
 "nbformat_minor": 4
}
